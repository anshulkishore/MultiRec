{
 "cells": [
  {
   "cell_type": "code",
   "execution_count": 1,
   "metadata": {
    "collapsed": true
   },
   "outputs": [],
   "source": [
    "import pandas as pd\n",
    "import math"
   ]
  },
  {
   "cell_type": "code",
   "execution_count": null,
   "metadata": {
    "collapsed": true,
    "scrolled": true
   },
   "outputs": [],
   "source": [
    "# rating = pd.read_csv('ydata-ymovies-user-movie-ratings-train-v1_0.txt', sep='\\t',names=['user_id', 'movie_id', 'rating(1-13)','rating(1-5)'], encoding='latin-1');\n",
    "# movie_content = pd.read_csv('movie_db_yoda', sep='[\\t]',engine='python' ,names=['movie_id','title','synopsis','run_time','MPAA_rating','reason_for_MPAA_rating','release_date','distributor','poster_URL','genres','directors','director_ids','crew_members','crew_ids','types_of_crew','actors','actor_ids','critic_rating','number_of_critic_ratings','number_of_awards_won','number_of_awards_nominated','list_of_awards_won','list_of_awards_nominated','Movie_Mom_rating','Movie_Mom_review','review_summaries','review_owners','captions','url_greg_preview','url_dvd_review','GNPP','average_rating','rating_users'], encoding='latin-1')\n",
    "# rating\n",
    "# movie_content\n",
    "# shashanksi2009@\n",
    "# print(movie_content.iloc[[62]])\n",
    "# len(['movie_id','title','synopsis','run_time','MPAA_rating','reason_for_MPAA_rating','release_date','distributor','poster_URL','genres','directors','director_ids','crew_members','crew_ids','types_of_crew','actors','actor_ids','critic_rating','number_of_critic_ratings','number_of_awards_won','number_of_awards_nominated','list_of_awards_won','list_of_awards_nominated','Movie_Mom_rating','Movie_Mom_review','review_summaries','review_owners','captions','url_greg_preview','url_dvd_review','GNPP','average_rating','rating_users'])"
   ]
  },
  {
   "cell_type": "code",
   "execution_count": 4,
   "metadata": {},
   "outputs": [
    {
     "name": "stdout",
     "output_type": "stream",
     "text": [
      "users -  7642\n",
      "items -  11916\n",
      "ratings -  11916\n",
      "        user_id    movie_id  rating_13  rating_5\n",
      "0             1  1800029049         12         5\n",
      "1             1  1804857429          8         4\n",
      "2             1  1800030906         13         5\n",
      "3             1  1800018548         11         5\n",
      "4             1  1800256362          9         4\n",
      "5             1  1808438656          9         4\n",
      "6             1  1807428619          5         3\n",
      "7             1  1800373145         10         4\n",
      "8             1  1808403329         10         4\n",
      "9             1  1804738128         13         5\n",
      "10            1  1808405417         12         5\n",
      "11            1  1800030633          9         4\n",
      "12            1  1807858487          6         3\n",
      "13            1  1804763109          9         4\n",
      "14            1  1800030044         10         4\n",
      "15            2  1800019594         12         5\n",
      "16            2  1808478440          1         1\n",
      "17            2  1800353817         11         5\n",
      "18            2  1808403981          7         3\n",
      "19            2  1807428619         12         5\n",
      "20            2  1807592188         10         4\n",
      "21            2  1808403329         10         4\n",
      "22            2  1800026398          1         1\n",
      "23            2  1800137412          1         1\n",
      "24            2  1807743620          8         4\n",
      "25            2  1808440575          1         1\n",
      "26            2  1807858361          1         1\n",
      "27            2  1808418671          1         1\n",
      "28            2  1808405428          1         1\n",
      "29            2  1807432594         12         5\n",
      "...         ...         ...        ...       ...\n",
      "211201     7640  1805534099          1         1\n",
      "211202     7640  1802813191         13         5\n",
      "211203     7641  1808421437         12         5\n",
      "211204     7641  1800354088         12         5\n",
      "211205     7641  1800421139          1         1\n",
      "211206     7641  1807859445         13         5\n",
      "211207     7641  1804857894         12         5\n",
      "211208     7641  1804359169         13         5\n",
      "211209     7641  1800098136         13         5\n",
      "211210     7641  1807428619         13         5\n",
      "211211     7641  1804383542          9         4\n",
      "211212     7641  1808419754         11         5\n",
      "211213     7641  1800091619         13         5\n",
      "211214     7641  1800363208         13         5\n",
      "211215     7641  1808405417         13         5\n",
      "211216     7641  1807743429          7         3\n",
      "211217     7641  1807829113         13         5\n",
      "211218     7642  1808403030         10         4\n",
      "211219     7642  1808406133         10         4\n",
      "211220     7642  1808440470         10         4\n",
      "211221     7642  1808421437         11         5\n",
      "211222     7642  1803242700          5         3\n",
      "211223     7642  1808404742         12         5\n",
      "211224     7642  1808416650          6         3\n",
      "211225     7642  1808409330          8         4\n",
      "211226     7642  1808405417         11         5\n",
      "211227     7642  1807839027          8         4\n",
      "211228     7642  1808405428         11         5\n",
      "211229     7642  1808429384         10         4\n",
      "211230     7642  1808404841          4         2\n",
      "\n",
      "[211231 rows x 4 columns]\n"
     ]
    }
   ],
   "source": [
    "# getting the ratings data in pandas dataframe\n",
    "ratings = pd.read_csv('../Yahoo movies/ydata-ymovies-user-movie-ratings-train-v1_0.txt', sep='\\t',names=['user_id', 'movie_id', 'rating_13', 'rating_5'])\n",
    "num_users=ratings['user_id'].value_counts().size # number of users\n",
    "num_items=ratings['movie_id'].value_counts().size # number of items\n",
    "print('users - ',num_users)\n",
    "print('items - ',num_items)\n",
    "print('ratings - ',ratings['movie_id'].value_counts().size)  # number of  items\n",
    "# average number of ratings per-user\n",
    "ratings.groupby(['user_id'])['rating_13'].count().sum()/num_users\n",
    "#average number of ratings per-item\n",
    "ratings.groupby(['movie_id'])['rating_13'].count().sum()/num_items\n",
    "# minimum number of movies rated by any user\n",
    "min(ratings.groupby(['user_id'])['rating_13'].count())\n",
    "print(ratings)\n"
   ]
  },
  {
   "cell_type": "markdown",
   "metadata": {},
   "source": [
    "## Popularity Model"
   ]
  },
  {
   "cell_type": "code",
   "execution_count": 5,
   "metadata": {
    "collapsed": true
   },
   "outputs": [],
   "source": [
    "# computing the most popular movies\n",
    "# This is not actually needed for below function to work\n",
    "movie_popularity_df = ratings.groupby('movie_id')['rating_5'].sum().sort_values(ascending=False).reset_index()\n",
    "# movie_popularity_df"
   ]
  },
  {
   "cell_type": "code",
   "execution_count": 103,
   "metadata": {
    "collapsed": true
   },
   "outputs": [],
   "source": [
    "# cell for rough workuser1]\n",
    "# ratings.groupby('user_id')['movie_id'].count()"
   ]
  },
  {
   "cell_type": "code",
   "execution_count": 6,
   "metadata": {
    "collapsed": true
   },
   "outputs": [],
   "source": [
    "class PopularityRecommender:\n",
    "    \n",
    "    # constructor\n",
    "    def __init__(self, popularity_df, movies_df=None):\n",
    "        self.popularity_df = popularity_df\n",
    "        self.movies_df = movies_df\n",
    "    \n",
    "    # function to recommend items\n",
    "    def recommend_items(self, user_id, movies_to_ignore=[], topn=10):\n",
    "        recommended_df = self.popularity_df[~self.popularity_df['movie_id'].isin(movies_to_ignore)]\\\n",
    "        .sort_values('rating_5',ascending=False)\\\n",
    "        .head(topn)\n",
    "        return recommended_df\n",
    "    "
   ]
  },
  {
   "cell_type": "code",
   "execution_count": 7,
   "metadata": {},
   "outputs": [
    {
     "data": {
      "text/html": [
       "<div>\n",
       "<style>\n",
       "    .dataframe thead tr:only-child th {\n",
       "        text-align: right;\n",
       "    }\n",
       "\n",
       "    .dataframe thead th {\n",
       "        text-align: left;\n",
       "    }\n",
       "\n",
       "    .dataframe tbody tr th {\n",
       "        vertical-align: top;\n",
       "    }\n",
       "</style>\n",
       "<table border=\"1\" class=\"dataframe\">\n",
       "  <thead>\n",
       "    <tr style=\"text-align: right;\">\n",
       "      <th></th>\n",
       "      <th>movie_id</th>\n",
       "      <th>rating_5</th>\n",
       "    </tr>\n",
       "  </thead>\n",
       "  <tbody>\n",
       "    <tr>\n",
       "      <th>1</th>\n",
       "      <td>1808405428</td>\n",
       "      <td>14092</td>\n",
       "    </tr>\n",
       "    <tr>\n",
       "      <th>3</th>\n",
       "      <td>1807428853</td>\n",
       "      <td>11862</td>\n",
       "    </tr>\n",
       "    <tr>\n",
       "      <th>6</th>\n",
       "      <td>1807432594</td>\n",
       "      <td>8940</td>\n",
       "    </tr>\n",
       "    <tr>\n",
       "      <th>7</th>\n",
       "      <td>1808403030</td>\n",
       "      <td>8241</td>\n",
       "    </tr>\n",
       "    <tr>\n",
       "      <th>8</th>\n",
       "      <td>1807592188</td>\n",
       "      <td>7603</td>\n",
       "    </tr>\n",
       "  </tbody>\n",
       "</table>\n",
       "</div>"
      ],
      "text/plain": [
       "     movie_id  rating_5\n",
       "1  1808405428     14092\n",
       "3  1807428853     11862\n",
       "6  1807432594      8940\n",
       "7  1808403030      8241\n",
       "8  1807592188      7603"
      ]
     },
     "execution_count": 7,
     "metadata": {},
     "output_type": "execute_result"
    }
   ],
   "source": [
    "popularity_model = PopularityRecommender(movie_popularity_df)\n",
    "user_id = 1\n",
    "# print(ratings.shape)\n",
    "# movies rated by the user i.e. movies to ignore\n",
    "rated_movies = ratings[ratings['user_id']==user_id].movie_id\n",
    "recommended_df = popularity_model.recommend_items(user_id, rated_movies, 5)\n",
    "recommended_df"
   ]
  },
  {
   "cell_type": "markdown",
   "metadata": {},
   "source": [
    "## Collaborative Filtering Model (user-user)"
   ]
  },
  {
   "cell_type": "code",
   "execution_count": 8,
   "metadata": {
    "collapsed": true
   },
   "outputs": [],
   "source": [
    "# compute similarity between two users based on euclidean distance\n",
    "def euclidean_similarity(user1, user2):\n",
    "    # find all the movies that are rated by both the users\n",
    "    user1_movies = ratings[ratings['user_id']==user1]\n",
    "    user2_movies = ratings[ratings['user_id']==user2]\n",
    "    similar_movies_df = pd.merge(user1_movies, user2_movies, how='inner', on=['movie_id'])\n",
    "    similar_movies_df = similar_movies_df[['movie_id', 'rating_5_x','rating_5_y']]\n",
    "#     print(similar_movies_df)\n",
    "    temp_df = (similar_movies_df['rating_5_x'] - similar_movies_df['rating_5_y'])**2\n",
    "    return 1/(1+sum(temp_df))"
   ]
  },
  {
   "cell_type": "code",
   "execution_count": 9,
   "metadata": {
    "collapsed": true
   },
   "outputs": [],
   "source": [
    "# to compute similarity between two users based on pearson correlation formula\n",
    "def pearson_similarity(user1, user2):\n",
    "    # find all movies that are rated by both the users\n",
    "    user1_movies = ratings[ratings['user_id']==user1]\n",
    "    user2_movies = ratings[ratings['user_id']==user2]\n",
    "    similar_movies_df = pd.merge(user1_movies, user2_movies, how='inner', on=['movie_id'])\n",
    "    similar_movies_df = similar_movies_df[['movie_id', 'rating_5_x','rating_5_y']]\n",
    "    \n",
    "    if(similar_movies_df.shape[0]==0): # no similar movie between the two users\n",
    "        return 0\n",
    "#     print(similar_movies_df)\n",
    "    avg1 = sum(similar_movies_df['rating_5_x'])/similar_movies_df.shape[0]\n",
    "    avg2 = sum(similar_movies_df['rating_5_y'])/similar_movies_df.shape[0]\n",
    "    # apply the pearson correlation formula\n",
    "    temp1 = (similar_movies_df['rating_5_x']-avg1)\n",
    "    temp2 = (similar_movies_df['rating_5_y']-avg2)\n",
    "    num = sum(temp1.multiply(temp2))\n",
    "    den = (sum(temp1**2))**0.5 * (sum(temp2**2))**0.5\n",
    "    return num/den\n",
    "    \n",
    "# pearson_similarity(6,2)"
   ]
  },
  {
   "cell_type": "code",
   "execution_count": 10,
   "metadata": {
    "collapsed": true
   },
   "outputs": [],
   "source": [
    "# for calculating average rating of a user\n",
    "def my_average(user): \n",
    "    temp = ratings[ratings['user_id']==user].rating_5\n",
    "    avg = temp.sum()/temp.count()\n",
    "    return avg\n",
    "\n",
    "# for returning a vector containing all ratings of a user\n",
    "# this is wrong\n",
    "def get_correlation(user1, user2):\n",
    "    user1_data = ratings[ratings['user_id']==user1]\n",
    "    user2_data = ratings[ratings['user_id']==user2]\n",
    "\n",
    "    \n",
    "    s1 = pd.merge(user1_data, user2_data, how='outer', on=['movie_id']) # getting the data for movies rated by both user\n",
    "    s1.fillna(0, inplace=True)\n",
    "    pearson_correlation = s1.rating_5_x.corr(s1.rating_5_y)\n",
    "#     print(s1)\n",
    "#     print(s1.rating_5_x)\n",
    "#     print(\"correlation = \",pearson_correlation)\n",
    "    return pearson_correlation\n",
    "    \n",
    "# get_correlation(5,8)\n",
    "# ratings.loc[(ratings['user_id']==8) & (ratings['movie_id']==1800019594)].rating_5"
   ]
  },
  {
   "cell_type": "code",
   "execution_count": 98,
   "metadata": {
    "collapsed": true
   },
   "outputs": [],
   "source": [
    "# For computing correlation between every pair of user\n",
    "# computationally very expensive  :-(\n",
    "user_correlation = dict()\n",
    "for user1 in ratings['user_id'].drop_duplicates():\n",
    "    print(\"started\", user1)\n",
    "    for user2 in ratings['user_id'].drop_duplicates():\n",
    "        user1_data = ratings[ratings['user_id']==user1]\n",
    "        user2_data = ratings[ratings['user_id']==user2]\n",
    "#         print(user1, user2)\n",
    "#         s1 = pd.merge(user1_data, user2_data, how='outer', on=['movie_id']) # getting the data for movies rated by both user\n",
    "#         s1.fillna(0, inplace=True)\n",
    "        # code for merging user1 and user2 data\n",
    "        s1 = pd.DataFrame(columns=['user1', 'user2'])\n",
    "        for movie in user1_data['movie_id']:\n",
    "            temp=user2_data[user2_data['movie_id']==movie].rating_5\n",
    "            temp1 = user1_data[user1_data['movie_id']==movie].rating_5\n",
    "            if(len(temp.index) != 0):\n",
    "                s1 = s1.append({'user1': temp1, 'user2': temp}, ignore_index=True)\n",
    "            else:\n",
    "                s1 = s1.append({'user1': temp1, 'user2': 0}, ignore_index=True)\n",
    "#         pearson_correlation = s1.rating_5_x.corr(s1.rating_5_y)\n",
    "#         print(s1.columns)\n",
    "        pearson_correlation = s1.user1.astype(float).corr(s1.user2.astype(float))    \n",
    "        user_correlation[(user1,user2)] = pearson_correlation\n",
    "print(user_correlation)"
   ]
  },
  {
   "cell_type": "code",
   "execution_count": 11,
   "metadata": {},
   "outputs": [
    {
     "data": {
      "text/plain": [
       "nan"
      ]
     },
     "execution_count": 11,
     "metadata": {},
     "output_type": "execute_result"
    }
   ],
   "source": [
    "# Rough work\n",
    "user1_data = ratings[ratings['user_id']==5]\n",
    "user2_data = ratings[ratings['user_id']==8]\n",
    "# print(user1_data)\n",
    "s1 = pd.merge(user1_data, user2_data, how='outer', on=['movie_id']) # getting the data for movies rated by both user\n",
    "s1.fillna(0, inplace=True)\n",
    "pearson_correlation = s1.rating_5_x.corr(s1.rating_5_y)\n",
    "pearson_correlation\n",
    "user1_data.rating_5.corr(user2_data.rating_5)"
   ]
  },
  {
   "cell_type": "code",
   "execution_count": 12,
   "metadata": {
    "collapsed": true
   },
   "outputs": [],
   "source": [
    "# function to predict rating by user to movie\n",
    "def predict(user, movie): \n",
    "    # calculate the predicted score of movie\n",
    "    numerator = 0\n",
    "    denominator = 0\n",
    "    cnt = 0\n",
    "    for user2 in ratings['user_id'].drop_duplicates():\n",
    "#         print(user2)\n",
    "#         if(cnt==10):\n",
    "#             break\n",
    "        rate_v_i_series = ratings.loc[(ratings['user_id']==user2) & (ratings['movie_id']==movie)].rating_5 # rating given by user2 to movie\n",
    "        if(rate_v_i_series.empty): # user has not rated the movie\n",
    "            continue\n",
    "        cnt += 1\n",
    "#         print(ratings.loc[(ratings['user_id']==user2) & (ratings['movie_id']==movie)])\n",
    "        rate_v_i = rate_v_i_series.iloc[0]\n",
    "#         print(\"user2 rating --> \", rate_v_i)\n",
    "        avg_v = my_average(user2) # average rating given by user2\n",
    "#         print(\"user2 average --> \", avg_v)\n",
    "        weight = get_correlation(user, user2) # Pearson correlation between user and user2\n",
    "#         print(\"weight --> \",weight)\n",
    "        numerator += (rate_v_i - avg_v)*weight\n",
    "        denominator += weight\n",
    "#     print(numerator)\n",
    "#     print(denominator)\n",
    "    rating_i = numerator/denominator + my_average(user) # Predicted rating of movie i\n",
    "    return rating_i\n",
    "            \n",
    "            \n",
    "\n",
    "# ratings['column1'].corr(ratings['column2'])  --> to find pearson correlation between two columns\n",
    "\n",
    "# print(pearson_similarity(1,2))\n",
    "# recommend(1,10,pearson_similarity)\n",
    "# 5\t1808405757\n",
    "# print(predict(22,1807485310))\n",
    "        "
   ]
  },
  {
   "cell_type": "code",
   "execution_count": 13,
   "metadata": {
    "collapsed": true
   },
   "outputs": [],
   "source": [
    "# function for finding root mean square error\n",
    "def find_error(test):\n",
    "    error = 0\n",
    "    for index, row in test.iterrows():\n",
    "        value = predict(row['user_id'], row['movie_id'])\n",
    "        error += (value - row['rating_5'])**2\n",
    "    # Mean square error\n",
    "    error = error/test.shape[0]\n",
    "    # root mean square error\n",
    "    return math.sqrt(error)"
   ]
  },
  {
   "cell_type": "code",
   "execution_count": 14,
   "metadata": {},
   "outputs": [
    {
     "data": {
      "text/plain": [
       "(10136, 4)"
      ]
     },
     "execution_count": 14,
     "metadata": {},
     "output_type": "execute_result"
    }
   ],
   "source": [
    "# import test data to pandas dataframe\n",
    "test = pd.read_csv('../Yahoo movies/ydata-ymovies-user-movie-ratings-test-v1_0.txt', sep='\\t', names = ['user_id', 'movie_id', 'rating_13', 'rating_5'])\n",
    "test.shape"
   ]
  },
  {
   "cell_type": "code",
   "execution_count": 15,
   "metadata": {},
   "outputs": [
    {
     "name": "stdout",
     "output_type": "stream",
     "text": [
      "RMSE --->  0.5898688970879378\n"
     ]
    }
   ],
   "source": [
    "print(\"RMSE ---> \", find_error(test.head(1)))"
   ]
  }
 ],
 "metadata": {
  "kernelspec": {
   "display_name": "Python 3",
   "language": "python",
   "name": "python3"
  },
  "language_info": {
   "codemirror_mode": {
    "name": "ipython",
    "version": 3
   },
   "file_extension": ".py",
   "mimetype": "text/x-python",
   "name": "python",
   "nbconvert_exporter": "python",
   "pygments_lexer": "ipython3",
   "version": "3.6.2"
  }
 },
 "nbformat": 4,
 "nbformat_minor": 2
}
